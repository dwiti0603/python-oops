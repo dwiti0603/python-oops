{
  "nbformat": 4,
  "nbformat_minor": 0,
  "metadata": {
    "colab": {
      "provenance": []
    },
    "kernelspec": {
      "name": "python3",
      "display_name": "Python 3"
    },
    "language_info": {
      "name": "python"
    }
  },
  "cells": [
    {
      "cell_type": "markdown",
      "source": [
        "#**Python OOPs Assignment**\n",
        "\n",
        "Q1. What is Object-Oriented Programming (OOP)?\n",
        "\n",
        "Ans1. Object-Oriented Programming (OOP) is a programming paradigm in Python (and other languages) that organizes code into objects, which bundle together data (attributes) and functions (methods) that operate on that data. Instead of writing code in a procedural way, OOP models real-world entities as objects, making programs more modular, reusable, and easier to maintain.\n",
        "\n",
        "Q2. What is a class in OOP?\n",
        "\n",
        "Ans2. In Object-Oriented Programming (OOP), a class is a blueprint or template used to create objects. It defines the attributes (data/properties) and methods (functions/behaviors) that the objects created from it will have.\n",
        "\n",
        "Q3. What is an object in OOP?\n",
        "\n",
        "Ans3. Objects are the real-world entities created from a class, each with its own unique data.\n",
        "\n",
        "Q4. What is the difference between abstraction and encapsulation?\n",
        "\n",
        "Ans4. Abstraction is about hiding the implementation (show only necessary details). Encapsulation is about hiding the data (restrict direct access).\n",
        "\n",
        "Q5. What are dunder methods in Python?\n",
        "\n",
        "Ans5. Dunder methods give Python classes the power to behave like built-in types (e.g., customizing how objects print, compare, add, etc.).\n",
        "\n",
        "Q6. Explain the concept of inheritance in OOP.\n",
        "\n",
        "Ans6. Inheritance lets you reuse and extend existing code, making programs easier to maintain and scale.\n",
        "\n",
        "Q7. What is polymorphism in OOP?\n",
        "\n",
        "Ans7. Polymorphism makes it possible to write generic code that works with objects of different types, as long as they implement the expected behavior.\n",
        "\n",
        "Q8.  How is encapsulation achieved in Python?\n",
        "\n",
        "Ans8. Encapsulation in Python is achieved using public, protected, and private members, and by providing getter/setter methods or controlled functions to access or modify data. This keeps the object’s internal state safe and prevents misuse.\n",
        "\n",
        "Q9. What is a constructor in Python?\n",
        "\n",
        "Ans9. In Python, a constructor is a special method used to initialize objects of a class when they are created. It is always named __init__, and it automatically runs when you create a new object (instance) of a class.\n",
        "\n",
        "Q10. What are class and static methods in Python?\n",
        "\n",
        "Ans10. Use class methods when you need to work with class variables. Use static methods for utility functions that logically belong to the class but don’t depend on instance or class state.\n",
        "\n",
        "Q11. What is method overloading in Python?\n",
        "\n",
        "Ans11. Python does not support true method overloading like Java/C++, but we can achieve similar behavior using - default arguments:\n",
        "(*args and **kwargs)\n",
        "\n",
        "Q12. What is method overriding in OOP?\n",
        "\n",
        "Ans12. Method Overriding in OOP means redefining a method from the parent class in the child class with the same name and parameters. It allows the child class to provide a new implementation.\n",
        "\n",
        "Q13. What is a property decorator in Python?\n",
        "\n",
        "Ans13. In Python, the @property decorator is used to turn a class method into a read-only attribute. It lets you access methods like attributes without using parentheses, and is often used for controlled access (getters/setters) to private variables.\n",
        "\n",
        "Q14. Why is polymorphism important in OOP?\n",
        "\n",
        "Ans14. Polymorphism is important in OOP because it lets the same method name work differently for different classes, making code more flexible and reusable.\n",
        "\n",
        "Q15. What is an abstract class in Python?\n",
        "\n",
        "Ans15. An abstract class in Python is a class that cannot be instantiated and is used as a blueprint for other classes. It can contain abstract methods (defined with `@abstractmethod`) that must be implemented by its subclasses.\n",
        "\n",
        "Q16. What are the advantages of OOP?\n",
        "\n",
        "Ans16. Object-Oriented Programming (OOP) has several advantages such as reusability of code through inheritance, encapsulation for protecting data, and modularity which makes programs more organized. It also supports polymorphism, allowing the same interface to work with different implementations, and abstraction, which hides complex details. These features together make OOP programs easier to maintain, debug, and scale.\n",
        "\n",
        "Q17. What is the difference between a class variable and an instance variable?\n",
        "\n",
        "Ans17. Class Variable → A variable that is shared among all objects of the class. It is defined inside the class but outside any method. Changing it affects all instances (unless overridden).\n",
        "Instance Variable → A variable that belongs to a specific object. It is defined inside the constructor (__init__) using self. Each object gets its own copy.\n",
        "\n",
        "Q18. What is multiple inheritance in Python?\n",
        "\n",
        "Ans18. Multiple Inheritance in Python means a class can inherit from more than one parent class.\n",
        "\n",
        "Q19. Explain the purpose of ‘’__str__’ and ‘__repr__’ ‘ methods in Python.\n",
        "\n",
        "Ans19. Use __str__ for end-users.\n",
        "Use __repr__ for developers/debugging.\n",
        "\n",
        "Q20. What is the significance of the ‘super()’ function in Python?\n",
        "\n",
        "Ans20. 'super()' helps reuse and extend parent class functionality without directly referring to the parent class name.\n",
        "\n",
        "Q21. What is the significance of the __del__ method in Python?\n",
        "\n",
        "Ans21. Relying too much on __del__ is discouraged because the exact time of its call depends on the garbage collector. It may not run immediately (or at all) if there are circular references.\n",
        "\n",
        "Q22. What is the difference between @staticmethod and @classmethod in Python?\n",
        "\n",
        "Ans22. @staticmethod: No access to self or cls → independent utility function.\n",
        "@classmethod: Has access to cls → can modify class state and create new instances.\n",
        "\n",
        "Q23. How does polymorphism work in Python with inheritance?\n",
        "\n",
        "Ans23. Polymorphism lets you use one interface (method name) but multiple implementations (child classes).\n",
        "\n",
        "Q24. What is method chaining in Python OOP?\n",
        "\n",
        "Ans24. Method chaining in Python OOP is a technique where multiple methods are called in a single line, one after another, on the same object.\n",
        "\n",
        "Q25. What is the purpose of the __call__ method in Python?\n",
        "\n",
        "Ans25. The __call__ method in Python allows an object (instance of a class) to be called like a function. When you define __call__ inside a class, you can use the object as if it were a function, and Python will internally invoke the __call__ method.\n",
        "\n"
      ],
      "metadata": {
        "id": "IUBr4vBP5NH3"
      }
    },
    {
      "cell_type": "code",
      "source": [
        "#Q1. Create a parent class Animal with a method speak() that prints a generic message. Create a child class Dog that overrides the speak() method to print \"Bark!\".\n",
        "#Ans1.\n",
        "class Animal:\n",
        "    def speak(self):\n",
        "        print(\"This animal makes a sound.\")\n",
        "class Dog(Animal):\n",
        "    def speak(self):\n",
        "        print(\"Bark!\")\n",
        "a = Animal()\n",
        "d = Dog()\n",
        "a.speak()\n",
        "d.speak()"
      ],
      "metadata": {
        "colab": {
          "base_uri": "https://localhost:8080/"
        },
        "id": "66NiazgyBt_C",
        "outputId": "d8ec53fa-8c3d-4a94-9c9f-97827fad8682"
      },
      "execution_count": 1,
      "outputs": [
        {
          "output_type": "stream",
          "name": "stdout",
          "text": [
            "This animal makes a sound.\n",
            "Bark!\n"
          ]
        }
      ]
    },
    {
      "cell_type": "code",
      "source": [
        "#Q2. Write a program to create an abstract class Shape with a method area(). Derive classes Circle and Rectangle from it and implement the area() method in both.\n",
        "#Ans2.\n",
        "from abc import ABC, abstractmethod\n",
        "import math\n",
        "class Shape(ABC):\n",
        "    @abstractmethod\n",
        "    def area(self):\n",
        "        pass\n",
        "class Circle(Shape):\n",
        "    def __init__(self, radius):\n",
        "        self.radius = radius\n",
        "    def area(self):\n",
        "        return math.pi * self.radius ** 2\n",
        "class Rectangle(Shape):\n",
        "    def __init__(self, length, width):\n",
        "        self.length = length\n",
        "        self.width = width\n",
        "    def area(self):\n",
        "        return self.length * self.width\n",
        "circle = Circle(5)\n",
        "rectangle = Rectangle(4, 6)\n",
        "print(\"Circle area:\", circle.area())\n",
        "print(\"Rectangle area:\", rectangle.area())"
      ],
      "metadata": {
        "colab": {
          "base_uri": "https://localhost:8080/"
        },
        "id": "EhdgG8RQBt6y",
        "outputId": "e51c0dac-1896-4283-8b95-7a2b41a3e0b3"
      },
      "execution_count": 2,
      "outputs": [
        {
          "output_type": "stream",
          "name": "stdout",
          "text": [
            "Circle area: 78.53981633974483\n",
            "Rectangle area: 24\n"
          ]
        }
      ]
    },
    {
      "cell_type": "code",
      "source": [
        "#Q3. Implement a multi-level inheritance scenario where a class Vehicle has an attribute type. Derive a class Car and further derive a class ElectricCar that adds a battery attribute.\n",
        "#Ans3.\n",
        "\n",
        "class Vehicle:\n",
        "    def __init__(self, vehicle_type):\n",
        "        self.type = vehicle_type\n",
        "\n",
        "    def show_type(self):\n",
        "        print(f\"Vehicle Type: {self.type}\")\n",
        "\n",
        "class Car(Vehicle):\n",
        "    def __init__(self, vehicle_type, brand):\n",
        "        super().__init__(vehicle_type)\n",
        "        self.brand = brand\n",
        "\n",
        "    def show_brand(self):\n",
        "        print(f\"Car Brand: {self.brand}\")\n",
        "\n",
        "class ElectricCar(Car):\n",
        "    def __init__(self, vehicle_type, brand, battery):\n",
        "        super().__init__(vehicle_type, brand)\n",
        "        self.battery = battery\n",
        "\n",
        "    def show_battery(self):\n",
        "        print(f\"Battery Capacity: {self.battery} kWh\")\n",
        "\n",
        "e_car = ElectricCar(\"Four Wheeler\", \"Tesla\", 75)\n",
        "e_car.show_type()\n",
        "e_car.show_brand()\n",
        "e_car.show_battery()"
      ],
      "metadata": {
        "colab": {
          "base_uri": "https://localhost:8080/"
        },
        "id": "DRuwT_FYBt2n",
        "outputId": "e5bc84a0-6fb2-4d1b-9c9c-997a6343584d"
      },
      "execution_count": 3,
      "outputs": [
        {
          "output_type": "stream",
          "name": "stdout",
          "text": [
            "Vehicle Type: Four Wheeler\n",
            "Car Brand: Tesla\n",
            "Battery Capacity: 75 kWh\n"
          ]
        }
      ]
    },
    {
      "cell_type": "code",
      "source": [
        "#Q4. Demonstrate polymorphism by creating a base class Bird with a method fly(). Create two derived classes Sparrow and Penguin that override the fly() method.\n",
        "#Ans4.\n",
        "\n",
        "class Bird:\n",
        "    def fly(self):\n",
        "        print(\"Birds can usually fly.\")\n",
        "\n",
        "class Sparrow(Bird):\n",
        "    def fly(self):\n",
        "        print(\"Sparrow flies high in the sky!\")\n",
        "\n",
        "class Penguin(Bird):\n",
        "    def fly(self):\n",
        "        print(\"Penguins cannot fly, they swim instead!\")\n",
        "\n",
        "birds = [Sparrow(), Penguin(), Bird()]\n",
        "for b in birds:\n",
        "    b.fly()"
      ],
      "metadata": {
        "colab": {
          "base_uri": "https://localhost:8080/"
        },
        "id": "s_U7zhUFBtyP",
        "outputId": "0f52e05d-8205-4e43-8310-7bc44de2c1fa"
      },
      "execution_count": 4,
      "outputs": [
        {
          "output_type": "stream",
          "name": "stdout",
          "text": [
            "Sparrow flies high in the sky!\n",
            "Penguins cannot fly, they swim instead!\n",
            "Birds can usually fly.\n"
          ]
        }
      ]
    },
    {
      "cell_type": "code",
      "source": [
        "#Q5. Write a program to demonstrate encapsulation by creating a class BankAccount with private attributes balance and methods to deposit, withdraw, and check balance.\n",
        "#Ans5.\n",
        "class BankAccount:\n",
        "    def __init__(self, initial_balance=0):\n",
        "        self.__balance = initial_balance\n",
        "\n",
        "    def deposit(self, amount):\n",
        "        if amount > 0:\n",
        "            self.__balance += amount\n",
        "            print(f\"Deposited: {amount}\")\n",
        "        else:\n",
        "            print(\"Deposit amount must be positive.\")\n",
        "\n",
        "    def withdraw(self, amount):\n",
        "        if 0 < amount <= self.__balance:\n",
        "            self.__balance -= amount\n",
        "            print(f\"Withdrew: {amount}\")\n",
        "        else:\n",
        "            print(\"Insufficient balance or invalid amount.\")\n",
        "\n",
        "    def check_balance(self):\n",
        "        print(f\"Current Balance: {self.__balance}\")\n",
        "\n",
        "account = BankAccount(100)\n",
        "account.deposit(50)\n",
        "account.withdraw(30)\n",
        "account.check_balance()"
      ],
      "metadata": {
        "colab": {
          "base_uri": "https://localhost:8080/"
        },
        "id": "ZIIfuo2_BtuW",
        "outputId": "9a95b0a3-397d-4b81-c099-77fedd171bd8"
      },
      "execution_count": 5,
      "outputs": [
        {
          "output_type": "stream",
          "name": "stdout",
          "text": [
            "Deposited: 50\n",
            "Withdrew: 30\n",
            "Current Balance: 120\n"
          ]
        }
      ]
    },
    {
      "cell_type": "code",
      "source": [
        "#Q6. Demonstrate runtime polymorphism using a method play() in a base class Instrument. Derive classes Guitar and Piano that implement their own version of play().\n",
        "#Ans6.\n",
        "class Instrument:\n",
        "    def play(self):\n",
        "        print(\"This instrument makes a sound.\")\n",
        "\n",
        "class Guitar(Instrument):\n",
        "    def play(self):\n",
        "        print(\"Playing the guitar: Strum strum!\")\n",
        "\n",
        "class Piano(Instrument):\n",
        "    def play(self):\n",
        "        print(\"Playing the piano: Plink plonk!\")\n",
        "\n",
        "instruments = [Guitar(), Piano(), Instrument()]\n",
        "for inst in instruments:\n",
        "    inst.play()"
      ],
      "metadata": {
        "colab": {
          "base_uri": "https://localhost:8080/"
        },
        "id": "hb5OM3XuBtqr",
        "outputId": "8cf88184-efd7-4141-b8fa-7cdc39064842"
      },
      "execution_count": 6,
      "outputs": [
        {
          "output_type": "stream",
          "name": "stdout",
          "text": [
            "Playing the guitar: Strum strum!\n",
            "Playing the piano: Plink plonk!\n",
            "This instrument makes a sound.\n"
          ]
        }
      ]
    },
    {
      "cell_type": "code",
      "source": [
        "#Q7. Create a class MathOperations with a class method add_numbers() to add two numbers and a static method subtract_numbers() to subtract two numbers.\n",
        "#Ans7.\n",
        "class MathOperations:\n",
        "    @classmethod\n",
        "    def add_numbers(cls, a, b):\n",
        "        return a + b\n",
        "\n",
        "    @staticmethod\n",
        "    def subtract_numbers(a, b):\n",
        "        return a - b\n",
        "\n",
        "print(\"Addition:\", MathOperations.add_numbers(10, 5))\n",
        "print(\"Subtraction:\", MathOperations.subtract_numbers(10, 5))"
      ],
      "metadata": {
        "colab": {
          "base_uri": "https://localhost:8080/"
        },
        "id": "49HhKfY1Btl-",
        "outputId": "b76619b2-166a-439f-9ba2-b7362ab501e1"
      },
      "execution_count": 7,
      "outputs": [
        {
          "output_type": "stream",
          "name": "stdout",
          "text": [
            "Addition: 15\n",
            "Subtraction: 5\n"
          ]
        }
      ]
    },
    {
      "cell_type": "code",
      "source": [
        "#Q8. Implement a class Person with a class method to count the total number of persons created.\n",
        "#Ans8.\n",
        "class Person:\n",
        "    count = 0\n",
        "\n",
        "    def __init__(self, name):\n",
        "        self.name = name\n",
        "        Person.count += 1\n",
        "\n",
        "    @classmethod\n",
        "    def total_persons(cls):\n",
        "        return cls.count\n",
        "\n",
        "p1 = Person(\"Alice\")\n",
        "p2 = Person(\"Bob\")\n",
        "p3 = Person(\"Charlie\")\n",
        "print(\"Total persons created:\", Person.total_persons())"
      ],
      "metadata": {
        "colab": {
          "base_uri": "https://localhost:8080/"
        },
        "id": "B8g0x0jhBtjL",
        "outputId": "85123be9-2cab-4dc5-f37c-a8667e0531ed"
      },
      "execution_count": 8,
      "outputs": [
        {
          "output_type": "stream",
          "name": "stdout",
          "text": [
            "Total persons created: 3\n"
          ]
        }
      ]
    },
    {
      "cell_type": "code",
      "source": [
        "#Q9. Write a class Fraction with attributes numerator and denominator. Override the str method to display the fraction as \"numerator/denominator\".\n",
        "#Ans9.\n",
        "class Fraction:\n",
        "    def __init__(self, numerator, denominator):\n",
        "        self.numerator = numerator\n",
        "        self.denominator = denominator\n",
        "\n",
        "    def __str__(self):\n",
        "        return f\"{self.numerator}/{self.denominator}\"\n",
        "\n",
        "f1 = Fraction(3, 4)\n",
        "f2 = Fraction(7, 2)\n",
        "print(f1)\n",
        "print(f2)"
      ],
      "metadata": {
        "colab": {
          "base_uri": "https://localhost:8080/"
        },
        "id": "OOEnd1TgBteH",
        "outputId": "8c78e05b-923b-41f1-cc41-8d814bde74c8"
      },
      "execution_count": 9,
      "outputs": [
        {
          "output_type": "stream",
          "name": "stdout",
          "text": [
            "3/4\n",
            "7/2\n"
          ]
        }
      ]
    },
    {
      "cell_type": "code",
      "source": [
        "#Q10. Demonstrate operator overloading by creating a class Vector and overriding the add method to add two vectors.\n",
        "#Ans10.\n",
        "class Vector:\n",
        "    def __init__(self, x, y):\n",
        "        self.x = x\n",
        "        self.y = y\n",
        "\n",
        "    def __add__(self, other):\n",
        "        return Vector(self.x + other.x, self.y + other.y)\n",
        "\n",
        "    def __str__(self):\n",
        "        return f\"({self.x}, {self.y})\"\n",
        "\n",
        "v1 = Vector(2, 3)\n",
        "v2 = Vector(4, 5)\n",
        "v3 = v1 + v2\n",
        "print(\"Vector 1:\", v1)\n",
        "print(\"Vector 2:\", v2)\n",
        "print(\"Sum:\", v3)"
      ],
      "metadata": {
        "colab": {
          "base_uri": "https://localhost:8080/"
        },
        "id": "rDLtENF-BtbW",
        "outputId": "b9a7fb77-c4d7-4e55-a3e5-bf90fdec79d3"
      },
      "execution_count": 10,
      "outputs": [
        {
          "output_type": "stream",
          "name": "stdout",
          "text": [
            "Vector 1: (2, 3)\n",
            "Vector 2: (4, 5)\n",
            "Sum: (6, 8)\n"
          ]
        }
      ]
    },
    {
      "cell_type": "code",
      "source": [
        "#Q11. Create a class Person with attributes name and age. Add a method greet() that prints \"Hello, my name is {name} and I am {age} years old.\"\n",
        "#Ans11.\n",
        "class Person:\n",
        "    def __init__(self, name, age):\n",
        "        self.name = name\n",
        "        self.age = age\n",
        "\n",
        "    def greet(self):\n",
        "        print(f\"Hello, my name is {self.name} and I am {self.age} years old.\")\n",
        "\n",
        "p1 = Person(\"Alice\", 25)\n",
        "p2 = Person(\"Bob\", 30)\n",
        "p1.greet()\n",
        "p2.greet()"
      ],
      "metadata": {
        "colab": {
          "base_uri": "https://localhost:8080/"
        },
        "id": "sPMRSx6qBtXv",
        "outputId": "2b8fdd61-59ee-497f-fd97-c1cf975935ee"
      },
      "execution_count": 11,
      "outputs": [
        {
          "output_type": "stream",
          "name": "stdout",
          "text": [
            "Hello, my name is Alice and I am 25 years old.\n",
            "Hello, my name is Bob and I am 30 years old.\n"
          ]
        }
      ]
    },
    {
      "cell_type": "code",
      "source": [
        "#Q12.  Implement a class Student with attributes name and grades. Create a method average_grade() to compute the average of the grades.\n",
        "#Ans12.\n",
        "class Student:\n",
        "    def __init__(self, name, grades):\n",
        "        self.name = name\n",
        "        self.grades = grades\n",
        "\n",
        "    def average_grade(self):\n",
        "        if len(self.grades) == 0:\n",
        "            return 0\n",
        "        return sum(self.grades) / len(self.grades)\n",
        "\n",
        "s1 = Student(\"Alice\", [85, 90, 78])\n",
        "s2 = Student(\"Bob\", [70, 65, 80, 75])\n",
        "print(f\"{s1.name}'s average grade: {s1.average_grade()}\")\n",
        "print(f\"{s2.name}'s average grade: {s2.average_grade()}\")"
      ],
      "metadata": {
        "colab": {
          "base_uri": "https://localhost:8080/"
        },
        "id": "TzmIdkeyBtOw",
        "outputId": "cd7ff3d8-954b-4f5b-b2ef-2c084aa4c652"
      },
      "execution_count": 12,
      "outputs": [
        {
          "output_type": "stream",
          "name": "stdout",
          "text": [
            "Alice's average grade: 84.33333333333333\n",
            "Bob's average grade: 72.5\n"
          ]
        }
      ]
    },
    {
      "cell_type": "code",
      "source": [
        "#Q13. Create a class Rectangle with methods set_dimensions() to set the dimensions and area() to calculate the area.\n",
        "#Ans13.\n",
        "class Rectangle:\n",
        "    def __init__(self):\n",
        "        self.length = 0\n",
        "        self.width = 0\n",
        "\n",
        "    def set_dimensions(self, length, width):\n",
        "        self.length = length\n",
        "        self.width = width\n",
        "\n",
        "    def area(self):\n",
        "        return self.length * self.width\n",
        "\n",
        "rect = Rectangle()\n",
        "rect.set_dimensions(10, 5)\n",
        "print(\"Area of rectangle:\", rect.area())"
      ],
      "metadata": {
        "colab": {
          "base_uri": "https://localhost:8080/"
        },
        "id": "Ecw4MDuuBtLb",
        "outputId": "092e8a61-fef9-4597-8aa0-00a3698319d0"
      },
      "execution_count": 13,
      "outputs": [
        {
          "output_type": "stream",
          "name": "stdout",
          "text": [
            "Area of rectangle: 50\n"
          ]
        }
      ]
    },
    {
      "cell_type": "code",
      "source": [
        "#Q14. Create a class Employee with a method calculate_salary() that computes the salary based on hours worked and hourly rate. Create a derived class Manager that adds a bonus to the salary.\n",
        "#Ans14.\n",
        "class Employee:\n",
        "    def __init__(self, name, hours_worked, hourly_rate):\n",
        "        self.name = name\n",
        "        self.hours_worked = hours_worked\n",
        "        self.hourly_rate = hourly_rate\n",
        "\n",
        "    def calculate_salary(self):\n",
        "        return self.hours_worked * self.hourly_rate\n",
        "\n",
        "class Manager(Employee):\n",
        "    def __init__(self, name, hours_worked, hourly_rate, bonus):\n",
        "        super().__init__(name, hours_worked, hourly_rate)\n",
        "        self.bonus = bonus\n",
        "\n",
        "    def calculate_salary(self):\n",
        "        return super().calculate_salary() + self.bonus\n",
        "\n",
        "emp = Employee(\"Alice\", 40, 20)\n",
        "mgr = Manager(\"Bob\", 40, 30, 500)\n",
        "print(f\"{emp.name}'s Salary:\", emp.calculate_salary())\n",
        "print(f\"{mgr.name}'s Salary (with bonus):\", mgr.calculate_salary())"
      ],
      "metadata": {
        "colab": {
          "base_uri": "https://localhost:8080/"
        },
        "id": "xsTfs0ggBs_H",
        "outputId": "a069b763-4478-4800-d1bc-e0e981536383"
      },
      "execution_count": 14,
      "outputs": [
        {
          "output_type": "stream",
          "name": "stdout",
          "text": [
            "Alice's Salary: 800\n",
            "Bob's Salary (with bonus): 1700\n"
          ]
        }
      ]
    },
    {
      "cell_type": "code",
      "source": [
        "#Q15. Create a class Product with attributes name, price, and quantity. Implement a method total_price() that calculates the total price of the product.\n",
        "#ans15.\n",
        "class Product:\n",
        "    def __init__(self, name, price, quantity):\n",
        "        self.name = name\n",
        "        self.price = price\n",
        "        self.quantity = quantity\n",
        "\n",
        "    def total_price(self):\n",
        "        return self.price * self.quantity\n",
        "\n",
        "p1 = Product(\"Laptop\", 50000, 2)\n",
        "p2 = Product(\"Phone\", 20000, 3)\n",
        "print(f\"{p1.name} Total Price: ₹{p1.total_price()}\")\n",
        "print(f\"{p2.name} Total Price: ₹{p2.total_price()}\")"
      ],
      "metadata": {
        "colab": {
          "base_uri": "https://localhost:8080/"
        },
        "id": "waQ7ox485kQb",
        "outputId": "4502cdf8-653b-46ba-85f6-affdcc041547"
      },
      "execution_count": 15,
      "outputs": [
        {
          "output_type": "stream",
          "name": "stdout",
          "text": [
            "Laptop Total Price: ₹100000\n",
            "Phone Total Price: ₹60000\n"
          ]
        }
      ]
    },
    {
      "cell_type": "code",
      "source": [
        "#Q16. Create a class Animal with an abstract method sound(). Create two derived classes Cow and Sheep that implement the sound() method.\n",
        "#Ans16.\n",
        "from abc import ABC, abstractmethod\n",
        "\n",
        "class Animal(ABC):\n",
        "    @abstractmethod\n",
        "    def sound(self):\n",
        "        pass\n",
        "\n",
        "class Cow(Animal):\n",
        "    def sound(self):\n",
        "        return \"Moo\"\n",
        "\n",
        "class Sheep(Animal):\n",
        "    def sound(self):\n",
        "        return \"Baa\"\n",
        "\n",
        "animals = [Cow(), Sheep()]\n",
        "for animal in animals:\n",
        "    print(f\"{animal.__class__.__name__} sound: {animal.sound()}\")"
      ],
      "metadata": {
        "colab": {
          "base_uri": "https://localhost:8080/"
        },
        "id": "lw7sPvcf5kJn",
        "outputId": "e55211a4-9dee-44d9-98d0-fd16a967875c"
      },
      "execution_count": 16,
      "outputs": [
        {
          "output_type": "stream",
          "name": "stdout",
          "text": [
            "Cow sound: Moo\n",
            "Sheep sound: Baa\n"
          ]
        }
      ]
    },
    {
      "cell_type": "code",
      "source": [
        "#Q17. Create a class Book with attributes title, author, and year_published. Add a method get_book_info() that returns a formatted string with the book's details.\n",
        "#Ans17.\n",
        "class Book:\n",
        "    def __init__(self, title, author, year_published):\n",
        "        self.title = title\n",
        "        self.author = author\n",
        "        self.year_published = year_published\n",
        "\n",
        "    def get_book_info(self):\n",
        "        return f\"'{self.title}' by {self.author}, published in {self.year_published}\"\n",
        "\n",
        "book1 = Book(\"To Kill a Mockingbird\", \"Harper Lee\", 1960)\n",
        "book2 = Book(\"1984\", \"George Orwell\", 1949)\n",
        "print(book1.get_book_info())\n",
        "print(book2.get_book_info())"
      ],
      "metadata": {
        "colab": {
          "base_uri": "https://localhost:8080/"
        },
        "id": "BnbPJkYJ5kGV",
        "outputId": "35a0c5fd-2fd7-4823-a379-9a5f536e14bd"
      },
      "execution_count": 17,
      "outputs": [
        {
          "output_type": "stream",
          "name": "stdout",
          "text": [
            "'To Kill a Mockingbird' by Harper Lee, published in 1960\n",
            "'1984' by George Orwell, published in 1949\n"
          ]
        }
      ]
    },
    {
      "cell_type": "code",
      "source": [
        "#Q18. Create a class House with attributes address and price. Create a derived class Mansion that adds an attribute number_of_rooms.\n",
        "#Ans18.\n",
        "class House:\n",
        "    def __init__(self, address, price):\n",
        "        self.address = address\n",
        "        self.price = price\n",
        "\n",
        "    def get_info(self):\n",
        "        return f\"House at {self.address}, Price: ₹{self.price}\"\n",
        "\n",
        "class Mansion(House):\n",
        "    def __init__(self, address, price, number_of_rooms):\n",
        "        super().__init__(address, price)\n",
        "        self.number_of_rooms = number_of_rooms\n",
        "\n",
        "    def get_info(self):\n",
        "        return f\"Mansion at {self.address}, Price: ₹{self.price}, Rooms: {self.number_of_rooms}\"\n",
        "\n",
        "h1 = House(\"123 Green Street\", 5000000)\n",
        "m1 = Mansion(\"456 Luxury Avenue\", 20000000, 12)\n",
        "print(h1.get_info())\n",
        "print(m1.get_info())"
      ],
      "metadata": {
        "colab": {
          "base_uri": "https://localhost:8080/"
        },
        "id": "eHIK14H15j92",
        "outputId": "8d1d781e-96a1-48c6-b160-3e19de22660f"
      },
      "execution_count": 18,
      "outputs": [
        {
          "output_type": "stream",
          "name": "stdout",
          "text": [
            "House at 123 Green Street, Price: ₹5000000\n",
            "Mansion at 456 Luxury Avenue, Price: ₹20000000, Rooms: 12\n"
          ]
        }
      ]
    }
  ]
}